{
 "cells": [
  {
   "cell_type": "code",
   "execution_count": 28,
   "metadata": {
    "collapsed": true
   },
   "outputs": [],
   "source": [
    "import os\n",
    "\n",
    "def find_files(suffix, path):\n",
    "    def find_files_code(suffix, path, files_list):\n",
    "        if(path[:2]=='./'):\n",
    "            full_path = path\n",
    "        else:\n",
    "            full_path = './' + path\n",
    "        for item in os.listdir(full_path):\n",
    "            file_or_path = full_path+ '/' + item\n",
    "            if os.path.isdir(file_or_path):\n",
    "                find_files_code(suffix, file_or_path, files_list)\n",
    "            elif os.path.isfile(file_or_path) and suffix==item[-len(suffix):]:\n",
    "                files_list.append(item)\n",
    "        return files_list\n",
    "    files_list = find_files_code(suffix, path, [])\n",
    "    return files_list"
   ]
  },
  {
   "cell_type": "code",
   "execution_count": 29,
   "metadata": {},
   "outputs": [
    {
     "data": {
      "text/plain": [
       "['a.c', 'b.c', 'a.c', 't1.c']"
      ]
     },
     "execution_count": 29,
     "metadata": {},
     "output_type": "execute_result"
    }
   ],
   "source": [
    "find_files('.c', 'testdir')"
   ]
  },
  {
   "cell_type": "code",
   "execution_count": null,
   "metadata": {
    "collapsed": true
   },
   "outputs": [],
   "source": []
  }
 ],
 "metadata": {
  "kernelspec": {
   "display_name": "Python 2",
   "language": "python",
   "name": "python2"
  },
  "language_info": {
   "codemirror_mode": {
    "name": "ipython",
    "version": 2
   },
   "file_extension": ".py",
   "mimetype": "text/x-python",
   "name": "python",
   "nbconvert_exporter": "python",
   "pygments_lexer": "ipython2",
   "version": "2.7.13"
  }
 },
 "nbformat": 4,
 "nbformat_minor": 2
}
