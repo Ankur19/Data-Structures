{
 "cells": [
  {
   "cell_type": "code",
   "execution_count": 1,
   "metadata": {},
   "outputs": [],
   "source": [
    "import datetime\n",
    "import hashlib\n",
    "import time"
   ]
  },
  {
   "cell_type": "code",
   "execution_count": 7,
   "metadata": {},
   "outputs": [],
   "source": [
    "class Block(object):\n",
    "    def __init__(self, data, previous_hash =0x0):\n",
    "        self.data=data\n",
    "        self.timestamp=datetime.datetime.now()\n",
    "        self.previous_hash = previous_hash\n",
    "        self.nonce = 0\n",
    "        self.next = None\n",
    "    def hash(self):\n",
    "        sha = hashlib.sha256()\n",
    "        sha.update(str(self.data).encode('utf-8')+str(self.timestamp).encode('utf-8')+str(self.previous_hash).encode('utf-8')+str(self.nonce).encode('utf-8'))\n",
    "        return sha.hexdigest()\n",
    "    def __str__(self):\n",
    "        return \"Block Hash: \" + str(self.hash()) + \"\\nBlock Data: \" + str(self.data) + '\\nBlock Nonce: ' + str(self.nonce) + '\\nPrevious Hash: ' + str(self.previous_hash)+ '\\n\\n'\n",
    "    \n",
    "    \n",
    "class BlockChain():\n",
    "    def __init__(self):\n",
    "        self.difficulty = 0\n",
    "        self.head = Block(\"First Block\")\n",
    "        self.end = self.head\n",
    "        self.max_nonce = 2**32\n",
    "    def target(self):\n",
    "        return 2**(256-self.difficulty)\n",
    "    def add(self, block):\n",
    "        self.end.next = block\n",
    "        self.end = self.end.next\n",
    "    def mine(self, block):\n",
    "        for i in range(self.max_nonce):\n",
    "            if int(block.hash(), 16) <=self.target():\n",
    "                self.add(block)\n",
    "                break\n",
    "            else:\n",
    "                block.nonce +=1"
   ]
  },
  {
   "cell_type": "code",
   "execution_count": 10,
   "metadata": {},
   "outputs": [
    {
     "name": "stdout",
     "output_type": "stream",
     "text": [
      "Time for mining 10 blocks: 0 ms\n"
     ]
    }
   ],
   "source": [
    "blockchain = BlockChain()\n",
    "start_time = int(round(time.time() * 1000))\n",
    "for i in range(10):\n",
    "    blockchain.mine(Block(i, blockchain.end.hash()))\n",
    "end_time = int(round(time.time() * 1000))\n",
    "print(\"Time for mining 10 blocks: {} ms\".format(str(end_time-start_time)))"
   ]
  },
  {
   "cell_type": "code",
   "execution_count": 11,
   "metadata": {
    "scrolled": false
   },
   "outputs": [
    {
     "name": "stdout",
     "output_type": "stream",
     "text": [
      "Block Hash: f80c7ad2b66e316e21bf369dbcce702e5549457b7cdbbc0cf46694e07ae1f01c\n",
      "Block Data: First Block\n",
      "Block Nonce: 0\n",
      "Previous Hash: 0\n",
      "\n",
      "\n",
      "Block Hash: 8c0bc66565f8a4eeed86f2eb667954f7316b2ad0177b48e28699f51997c9d539\n",
      "Block Data: 0\n",
      "Block Nonce: 0\n",
      "Previous Hash: f80c7ad2b66e316e21bf369dbcce702e5549457b7cdbbc0cf46694e07ae1f01c\n",
      "\n",
      "\n",
      "Block Hash: b03ead5b43b3ae714d33c2417624c4faa9853450bc1b41c8d42f2ac0b7d20422\n",
      "Block Data: 1\n",
      "Block Nonce: 0\n",
      "Previous Hash: 8c0bc66565f8a4eeed86f2eb667954f7316b2ad0177b48e28699f51997c9d539\n",
      "\n",
      "\n",
      "Block Hash: df9bb8ed7866bb4167a80aff459c30661542ad44432a619a13e3918aed40f01c\n",
      "Block Data: 2\n",
      "Block Nonce: 0\n",
      "Previous Hash: b03ead5b43b3ae714d33c2417624c4faa9853450bc1b41c8d42f2ac0b7d20422\n",
      "\n",
      "\n",
      "Block Hash: a4ece6cf593c713336d1565dcb3474479eca4025b1a04b25e002e7c6a70229ed\n",
      "Block Data: 3\n",
      "Block Nonce: 0\n",
      "Previous Hash: df9bb8ed7866bb4167a80aff459c30661542ad44432a619a13e3918aed40f01c\n",
      "\n",
      "\n",
      "Block Hash: 716c7ee6c66808af4909ad10a7288f41e9d9a5ade1e0f7e48cc0b996bb8e6d89\n",
      "Block Data: 4\n",
      "Block Nonce: 0\n",
      "Previous Hash: a4ece6cf593c713336d1565dcb3474479eca4025b1a04b25e002e7c6a70229ed\n",
      "\n",
      "\n",
      "Block Hash: 0e13e02183049d70319b03fb08c7b6ebdd0cfbd1d1fdded1ee945481f5773118\n",
      "Block Data: 5\n",
      "Block Nonce: 0\n",
      "Previous Hash: 716c7ee6c66808af4909ad10a7288f41e9d9a5ade1e0f7e48cc0b996bb8e6d89\n",
      "\n",
      "\n",
      "Block Hash: 2be307f9d78c6b1662d7016f0c98f5f02a748446e07d38674da774a698b0a89c\n",
      "Block Data: 6\n",
      "Block Nonce: 0\n",
      "Previous Hash: 0e13e02183049d70319b03fb08c7b6ebdd0cfbd1d1fdded1ee945481f5773118\n",
      "\n",
      "\n",
      "Block Hash: 447b108f9139e8bbbfdaece043d14801a5bb3e2652a241d716155780f3daeb6a\n",
      "Block Data: 7\n",
      "Block Nonce: 0\n",
      "Previous Hash: 2be307f9d78c6b1662d7016f0c98f5f02a748446e07d38674da774a698b0a89c\n",
      "\n",
      "\n",
      "Block Hash: dac17f7c6b54c9ad22143339131b706dcd957456d1ca39d8fe218b54eee32c55\n",
      "Block Data: 8\n",
      "Block Nonce: 0\n",
      "Previous Hash: 447b108f9139e8bbbfdaece043d14801a5bb3e2652a241d716155780f3daeb6a\n",
      "\n",
      "\n",
      "Block Hash: d021eee6540215f78acb5ac179db45528a59b7fa11e7b96bbab2135b4923537b\n",
      "Block Data: 9\n",
      "Block Nonce: 0\n",
      "Previous Hash: dac17f7c6b54c9ad22143339131b706dcd957456d1ca39d8fe218b54eee32c55\n",
      "\n",
      "\n"
     ]
    }
   ],
   "source": [
    "head = blockchain.head\n",
    "while head:\n",
    "    print(head)\n",
    "    head = head.next"
   ]
  },
  {
   "cell_type": "code",
   "execution_count": 18,
   "metadata": {},
   "outputs": [
    {
     "name": "stdout",
     "output_type": "stream",
     "text": [
      "Time for mining 10 blocks: 198249 ms\n"
     ]
    }
   ],
   "source": [
    "blockchain = BlockChain()\n",
    "blockchain.difficulty = 20\n",
    "start_time = int(round(time.time() * 1000))\n",
    "for i in range(10):\n",
    "    blockchain.mine(Block(i, blockchain.end.hash()))\n",
    "end_time = int(round(time.time() * 1000))\n",
    "print(\"Time for mining 10 blocks: {} ms\".format(str(end_time-start_time)))"
   ]
  },
  {
   "cell_type": "code",
   "execution_count": 19,
   "metadata": {},
   "outputs": [
    {
     "name": "stdout",
     "output_type": "stream",
     "text": [
      "Block Hash: 6979a8bff2a269912816f057ca4c2e5eea0462081b89fd0a17259b180552f953\n",
      "Block Data: First Block\n",
      "Block Nonce: 0\n",
      "Previous Hash: 0\n",
      "\n",
      "\n",
      "Block Hash: 0000023b1d392c204316ecde4fd410875e806196f9cfef99afcfb10939b7d5c5\n",
      "Block Data: 0\n",
      "Block Nonce: 862786\n",
      "Previous Hash: 6979a8bff2a269912816f057ca4c2e5eea0462081b89fd0a17259b180552f953\n",
      "\n",
      "\n",
      "Block Hash: 00000ead0fa5c87718f6d59c733aa49054bff6b98cd81f8bf56b7ab006d0d835\n",
      "Block Data: 1\n",
      "Block Nonce: 806152\n",
      "Previous Hash: 0000023b1d392c204316ecde4fd410875e806196f9cfef99afcfb10939b7d5c5\n",
      "\n",
      "\n",
      "Block Hash: 0000015811c746323a1e5d6a6584ea04733a71a87585977d40b07fae849967fa\n",
      "Block Data: 2\n",
      "Block Nonce: 2330115\n",
      "Previous Hash: 00000ead0fa5c87718f6d59c733aa49054bff6b98cd81f8bf56b7ab006d0d835\n",
      "\n",
      "\n",
      "Block Hash: 000008acba5d3f225529f9daab9379829894d9006b638be16e8851da21732bed\n",
      "Block Data: 3\n",
      "Block Nonce: 803474\n",
      "Previous Hash: 0000015811c746323a1e5d6a6584ea04733a71a87585977d40b07fae849967fa\n",
      "\n",
      "\n",
      "Block Hash: 0000020fb46b15e17ddc48286bb4e52d9d8e40423a077d51cc634a5f45a7f36a\n",
      "Block Data: 4\n",
      "Block Nonce: 457347\n",
      "Previous Hash: 000008acba5d3f225529f9daab9379829894d9006b638be16e8851da21732bed\n",
      "\n",
      "\n",
      "Block Hash: 000002e8e41d8beb0b7e9c2f66e30510486fb925d6a7592ad4c95ff4fe568de3\n",
      "Block Data: 5\n",
      "Block Nonce: 3869570\n",
      "Previous Hash: 0000020fb46b15e17ddc48286bb4e52d9d8e40423a077d51cc634a5f45a7f36a\n",
      "\n",
      "\n",
      "Block Hash: 000007207cf40028bc0f72a567834ec5757c84c15a3e97a07f7b2a6b391ba04a\n",
      "Block Data: 6\n",
      "Block Nonce: 395275\n",
      "Previous Hash: 000002e8e41d8beb0b7e9c2f66e30510486fb925d6a7592ad4c95ff4fe568de3\n",
      "\n",
      "\n",
      "Block Hash: 00000ad13e5932003fa6777fb99b2ca899254c54c6946b4a5cf0f869e9720fe0\n",
      "Block Data: 7\n",
      "Block Nonce: 4736375\n",
      "Previous Hash: 000007207cf40028bc0f72a567834ec5757c84c15a3e97a07f7b2a6b391ba04a\n",
      "\n",
      "\n",
      "Block Hash: 000006c67d4d9aa4a0f78eb6f3d83701f3529eb01aeac04f0d388cb59017687b\n",
      "Block Data: 8\n",
      "Block Nonce: 768421\n",
      "Previous Hash: 00000ad13e5932003fa6777fb99b2ca899254c54c6946b4a5cf0f869e9720fe0\n",
      "\n",
      "\n",
      "Block Hash: 0000064767589f337fb1e10b5829ddcd0fec54f557e85e519840fe387cac8626\n",
      "Block Data: 9\n",
      "Block Nonce: 3102876\n",
      "Previous Hash: 000006c67d4d9aa4a0f78eb6f3d83701f3529eb01aeac04f0d388cb59017687b\n",
      "\n",
      "\n"
     ]
    }
   ],
   "source": [
    "head = blockchain.head\n",
    "while head:\n",
    "    print(head)\n",
    "    head = head.next"
   ]
  },
  {
   "cell_type": "code",
   "execution_count": null,
   "metadata": {},
   "outputs": [],
   "source": []
  }
 ],
 "metadata": {
  "kernelspec": {
   "display_name": "Python 3",
   "language": "python",
   "name": "python3"
  },
  "language_info": {
   "codemirror_mode": {
    "name": "ipython",
    "version": 3
   },
   "file_extension": ".py",
   "mimetype": "text/x-python",
   "name": "python",
   "nbconvert_exporter": "python",
   "pygments_lexer": "ipython3",
   "version": "3.7.3"
  }
 },
 "nbformat": 4,
 "nbformat_minor": 2
}
