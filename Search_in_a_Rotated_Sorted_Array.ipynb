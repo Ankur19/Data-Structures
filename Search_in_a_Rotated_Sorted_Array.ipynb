{
 "cells": [
  {
   "cell_type": "code",
   "execution_count": 25,
   "metadata": {},
   "outputs": [],
   "source": [
    "def rotated_array_search(input_list, number):\n",
    "    \"\"\"\n",
    "    Find the index by searching in a rotated sorted array\n",
    "\n",
    "    Args:\n",
    "       input_list(array), number(int): Input array to search and the target\n",
    "    Returns:\n",
    "       int: Index or -1\n",
    "    \"\"\"\n",
    "    start = 0\n",
    "    end = len(input_list)-1\n",
    "    def rotated_array_search_code(input_list, number, start, end):\n",
    "        mid = (end+start)//2\n",
    "        if len(input_list[start:end+1])==1:\n",
    "            if input_list[start]==number:\n",
    "                return start\n",
    "            else:\n",
    "                return -1\n",
    "        if input_list[mid]==number:\n",
    "            return mid\n",
    "        if input_list[start]<=number<=input_list[mid-1] or (input_list[start]<=number and input_list[mid-1]<=number and input_list[start]>input_list[mid-1]):\n",
    "            return rotated_array_search_code(input_list, number, start, mid-1)\n",
    "        if input_list[mid+1]<=number<=input_list[end] or (input_list[mid+1]<=number and input_list[end]<=number and input_list[mid+1]>input_list[end]):\n",
    "            return rotated_array_search_code(input_list, number, mid+1, end)\n",
    "        \n",
    "    x =  rotated_array_search_code(input_list, number, start, end)\n",
    "    if x is None:\n",
    "        return -1\n",
    "    else: return x"
   ]
  },
  {
   "cell_type": "code",
   "execution_count": 26,
   "metadata": {},
   "outputs": [
    {
     "name": "stdout",
     "output_type": "stream",
     "text": [
      "Pass\n",
      "Pass\n",
      "Pass\n",
      "Pass\n",
      "Pass\n"
     ]
    }
   ],
   "source": [
    "def linear_search(input_list, number):\n",
    "    for index, element in enumerate(input_list):\n",
    "        if element == number:\n",
    "            return index\n",
    "    return -1\n",
    "\n",
    "def test_function(test_case):\n",
    "    input_list = test_case[0]\n",
    "    number = test_case[1]\n",
    "    if linear_search(input_list, number) == rotated_array_search(input_list, number):\n",
    "        print(\"Pass\")\n",
    "    else:\n",
    "        print(\"Fail\")\n",
    "\n",
    "test_function([[6, 7, 8, 9, 10, 1, 2, 3, 4], 6])\n",
    "test_function([[6, 7, 8, 9, 10, 1, 2, 3, 4], 1])\n",
    "test_function([[6, 7, 8, 1, 2, 3, 4], 8])\n",
    "test_function([[6, 7, 8, 1, 2, 3, 4], 1])\n",
    "test_function([[6, 7, 8, 1, 2, 3, 4], 10])"
   ]
  },
  {
   "cell_type": "code",
   "execution_count": null,
   "metadata": {},
   "outputs": [],
   "source": []
  }
 ],
 "metadata": {
  "kernelspec": {
   "display_name": "Python 3",
   "language": "python",
   "name": "python3"
  },
  "language_info": {
   "codemirror_mode": {
    "name": "ipython",
    "version": 3
   },
   "file_extension": ".py",
   "mimetype": "text/x-python",
   "name": "python",
   "nbconvert_exporter": "python",
   "pygments_lexer": "ipython3",
   "version": "3.7.3"
  }
 },
 "nbformat": 4,
 "nbformat_minor": 2
}
