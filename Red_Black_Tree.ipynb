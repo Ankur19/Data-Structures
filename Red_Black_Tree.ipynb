{
 "cells": [
  {
   "cell_type": "code",
   "execution_count": 9,
   "metadata": {},
   "outputs": [],
   "source": [
    "class Node():\n",
    "    def __init__(self, value, parent, color = \"red\"):\n",
    "        self.value = value\n",
    "        self.parent = parent\n",
    "        self.color = color\n",
    "        self.left = None\n",
    "        self.right = None"
   ]
  },
  {
   "cell_type": "code",
   "execution_count": 10,
   "metadata": {},
   "outputs": [],
   "source": [
    "class Tree():\n",
    "    def __init__(self):\n",
    "        self.root = None\n",
    "    def insert(self, value):\n",
    "        node  = None\n",
    "        if self.root is None:\n",
    "            self.root = Node(value, None, \"black\")\n",
    "            node = self.root\n",
    "        else:\n",
    "            node = self.root\n",
    "            while node:\n",
    "                if node.value < value:\n",
    "                    if node.right is None:\n",
    "                        node.right = Node(value, node)\n",
    "                        node = node.right\n",
    "                        break\n",
    "                    else:\n",
    "                        node = node.right\n",
    "                elif node.value > value:\n",
    "                    if node.left is None:\n",
    "                        node.left = Node(value, node)\n",
    "                        node = node.left\n",
    "                        break\n",
    "                    else:\n",
    "                        node = node.left\n",
    "                else:\n",
    "                    #Do Nothing when value is already present\n",
    "                    break\n",
    "        self.rebalance(node)\n",
    "        \n",
    "    def pibling(self, node):\n",
    "        if node.parent is None or node.parent.parent is None:\n",
    "            return None\n",
    "        elif node.parent.parent.left ==node.parent:\n",
    "            return node.parent.parent.right\n",
    "        elif node.parent.parent.right==node.parent:\n",
    "            return node.parent.parent.left\n",
    "        else:\n",
    "            return None\n",
    "    def grandparent(self, node):\n",
    "        if node.parent is None or node.parent.parent is None:\n",
    "            return None\n",
    "        else:\n",
    "            return node.parent.parent\n",
    "    def rotate_left(self, node):\n",
    "        new_node = node.right\n",
    "        p = node.parent\n",
    "        old_left = new_node.left\n",
    "        node.right = old_left\n",
    "        new_node.left = node\n",
    "        node.parent = new_node\n",
    "        \n",
    "        if p is not None:\n",
    "            if p.right==node:\n",
    "                p.right = new_node\n",
    "            else:\n",
    "                p.left = new_node\n",
    "        new_node.parent = p\n",
    "        \n",
    "    def rotate_right(self, node):\n",
    "        new_node = node.left\n",
    "        p = node.parent\n",
    "        old_right = new_node.right\n",
    "        new_node.right = node\n",
    "        node.left = old_right\n",
    "        node.parent = new_node\n",
    "        if p is not None:\n",
    "            if p.right==node:\n",
    "                p.right=new_node\n",
    "            else:\n",
    "                p.left = new_node\n",
    "        new_node.parent = p\n",
    "        \n",
    "    def rebalance(self, node):\n",
    "        if node is None or node.parent is None:\n",
    "            return\n",
    "        else:\n",
    "            if node.parent.color==\"black\":\n",
    "                return\n",
    "            else:\n",
    "                # When parent and sibing of newly inserted node are both red\n",
    "                if self.pibling(node) is not None and self.pibling(node).color==\"red\":\n",
    "                    self.pibling(node).color = \"black\"\n",
    "                    node.parent.color = \"black\"\n",
    "                    if self.grandparent(node).parent is not  None:\n",
    "                        self.grandparent(node).color = \"red\"\n",
    "                    self.rebalance(self.grandparent(node))\n",
    "                    \n",
    "                # When parent is red but its sibling is black\n",
    "                elif self.pibling(node) is None or (self.pibling(node) is not None and self.pibling(node).color==\"black\"):\n",
    "                    \n",
    "                    # Check configuration of the sub tree\n",
    "                    if self.grandparent(node).left and self.grandparent(node).left.right == node:\n",
    "                        self.rotate_left(node.parent)\n",
    "                        self.rotate_right(node.parent)\n",
    "                        node.color=\"black\"\n",
    "                        node.right.color = \"red\"\n",
    "                    elif self.grandparent(node).left and self.grandparent(node).left.left == node:\n",
    "                        self.rotate_right(node.parent)\n",
    "                        node.color=\"black\"\n",
    "                        node.right.color = \"red\"\n",
    "                    elif self.grandparent(node).right and self.grandparent(node).right.right == node:\n",
    "                        self.rotate_left(node.parent)\n",
    "                        node.color=\"black\"\n",
    "                        node.left.color = \"red\"      \n",
    "                    elif self.grandparent(node).right and self.grandparent(node).right.left == node:\n",
    "                        self.rotate_right(node.parent)\n",
    "                        self.rotate_left(node.parent)\n",
    "                        node.color=\"black\"\n",
    "                        node.left.color = \"red\""
   ]
  },
  {
   "cell_type": "code",
   "execution_count": 36,
   "metadata": {},
   "outputs": [],
   "source": [
    "def print_tree(root):\n",
    "    \n",
    "    def print_tree_code(list_of_nodes, level):\n",
    "        new_list = []\n",
    "        if len(list(set(list_of_nodes)))==1 and list(set(list_of_nodes))[0]==\"none\":\n",
    "            return\n",
    "        for i in list_of_nodes:\n",
    "            if i==\"none\":\n",
    "                new_list.append(\"none\")\n",
    "                new_list.append(\"none\")\n",
    "            else:\n",
    "                if i.left is None:\n",
    "                    new_list.append(\"none\")\n",
    "                else:\n",
    "                    new_list.append(i.left)\n",
    "                if i.right is None:\n",
    "                    new_list.append(\"none\")\n",
    "                else:\n",
    "                    new_list.append(i.right)\n",
    "            if i ==\"none\":\n",
    "                print(\"{}{}:{}{}\".format(\"\".join([\"<<<\" for i in range(int(6/level))]), \"none\", \"none\", \"\".join([\">>>\" for i in range(int(6/level))])), end = \"-\")\n",
    "            else:\n",
    "                print(\"{}{}:{}{}\".format(\"\".join([\"<<<\" for i in range(int(6/level))]), str(i.value), i.color, \"\".join([\">>>\" for i in range(int(6/level))])), end = \"-\")\n",
    "        print(\"\\n\")\n",
    "        print_tree_code(new_list, level+1)\n",
    "    print_tree_code([root], 1)"
   ]
  },
  {
   "cell_type": "code",
   "execution_count": 37,
   "metadata": {},
   "outputs": [],
   "source": [
    "t = Tree()"
   ]
  },
  {
   "cell_type": "code",
   "execution_count": 38,
   "metadata": {},
   "outputs": [],
   "source": [
    "t.insert(10)"
   ]
  },
  {
   "cell_type": "code",
   "execution_count": 39,
   "metadata": {},
   "outputs": [],
   "source": [
    "t.insert(20)"
   ]
  },
  {
   "cell_type": "code",
   "execution_count": 40,
   "metadata": {},
   "outputs": [],
   "source": [
    "t.insert(-10)"
   ]
  },
  {
   "cell_type": "code",
   "execution_count": 41,
   "metadata": {},
   "outputs": [
    {
     "name": "stdout",
     "output_type": "stream",
     "text": [
      "<<<<<<<<<<<<<<<<<<10:black>>>>>>>>>>>>>>>>>>-\n",
      "\n",
      "<<<<<<<<<-10:red>>>>>>>>>-<<<<<<<<<20:red>>>>>>>>>-\n",
      "\n"
     ]
    }
   ],
   "source": [
    "print_tree(t.root)"
   ]
  },
  {
   "cell_type": "code",
   "execution_count": 42,
   "metadata": {},
   "outputs": [],
   "source": [
    "t.insert(15)"
   ]
  },
  {
   "cell_type": "code",
   "execution_count": 43,
   "metadata": {},
   "outputs": [
    {
     "name": "stdout",
     "output_type": "stream",
     "text": [
      "<<<<<<<<<<<<<<<<<<10:black>>>>>>>>>>>>>>>>>>-\n",
      "\n",
      "<<<<<<<<<-10:black>>>>>>>>>-<<<<<<<<<20:black>>>>>>>>>-\n",
      "\n",
      "<<<<<<none:none>>>>>>-<<<<<<none:none>>>>>>-<<<<<<15:red>>>>>>-<<<<<<none:none>>>>>>-\n",
      "\n"
     ]
    }
   ],
   "source": [
    "print_tree(t.root)"
   ]
  },
  {
   "cell_type": "code",
   "execution_count": 44,
   "metadata": {},
   "outputs": [],
   "source": [
    "t.insert(17)"
   ]
  },
  {
   "cell_type": "code",
   "execution_count": 45,
   "metadata": {},
   "outputs": [
    {
     "name": "stdout",
     "output_type": "stream",
     "text": [
      "<<<<<<<<<<<<<<<<<<10:black>>>>>>>>>>>>>>>>>>-\n",
      "\n",
      "<<<<<<<<<-10:black>>>>>>>>>-<<<<<<<<<17:black>>>>>>>>>-\n",
      "\n",
      "<<<<<<none:none>>>>>>-<<<<<<none:none>>>>>>-<<<<<<15:red>>>>>>-<<<<<<20:red>>>>>>-\n",
      "\n"
     ]
    }
   ],
   "source": [
    "print_tree(t.root)"
   ]
  },
  {
   "cell_type": "code",
   "execution_count": 46,
   "metadata": {},
   "outputs": [
    {
     "name": "stdout",
     "output_type": "stream",
     "text": [
      "<<<<<<<<<<<<<<<<<<10:black>>>>>>>>>>>>>>>>>>-\n",
      "\n",
      "<<<<<<<<<-10:black>>>>>>>>>-<<<<<<<<<17:red>>>>>>>>>-\n",
      "\n",
      "<<<<<<none:none>>>>>>-<<<<<<none:none>>>>>>-<<<<<<15:black>>>>>>-<<<<<<20:black>>>>>>-\n",
      "\n",
      "<<<none:none>>>-<<<none:none>>>-<<<none:none>>>-<<<none:none>>>-<<<none:none>>>-<<<none:none>>>-<<<none:none>>>-<<<40:red>>>-\n",
      "\n"
     ]
    }
   ],
   "source": [
    "t.insert(40)\n",
    "print_tree(t.root)"
   ]
  },
  {
   "cell_type": "code",
   "execution_count": 47,
   "metadata": {},
   "outputs": [
    {
     "name": "stdout",
     "output_type": "stream",
     "text": [
      "<<<<<<<<<<<<<<<<<<10:black>>>>>>>>>>>>>>>>>>-\n",
      "\n",
      "<<<<<<<<<-10:black>>>>>>>>>-<<<<<<<<<17:red>>>>>>>>>-\n",
      "\n",
      "<<<<<<none:none>>>>>>-<<<<<<none:none>>>>>>-<<<<<<15:black>>>>>>-<<<<<<20:black>>>>>>-\n",
      "\n",
      "<<<none:none>>>-<<<none:none>>>-<<<none:none>>>-<<<none:none>>>-<<<none:none>>>-<<<none:none>>>-<<<none:none>>>-<<<50:black>>>-\n",
      "\n",
      "<<<none:none>>>-<<<none:none>>>-<<<none:none>>>-<<<none:none>>>-<<<none:none>>>-<<<none:none>>>-<<<none:none>>>-<<<none:none>>>-<<<none:none>>>-<<<none:none>>>-<<<none:none>>>-<<<none:none>>>-<<<none:none>>>-<<<none:none>>>-<<<40:red>>>-<<<none:none>>>-\n",
      "\n"
     ]
    }
   ],
   "source": [
    "t.insert(50)\n",
    "print_tree(t.root)"
   ]
  },
  {
   "cell_type": "code",
   "execution_count": 48,
   "metadata": {},
   "outputs": [
    {
     "name": "stdout",
     "output_type": "stream",
     "text": [
      "<<<<<<<<<<<<<<<<<<10:black>>>>>>>>>>>>>>>>>>-\n",
      "\n",
      "<<<<<<<<<-10:black>>>>>>>>>-<<<<<<<<<17:red>>>>>>>>>-\n",
      "\n",
      "<<<<<<none:none>>>>>>-<<<<<<none:none>>>>>>-<<<<<<15:black>>>>>>-<<<<<<20:black>>>>>>-\n",
      "\n",
      "<<<none:none>>>-<<<none:none>>>-<<<none:none>>>-<<<none:none>>>-<<<none:none>>>-<<<none:none>>>-<<<none:none>>>-<<<50:black>>>-\n",
      "\n",
      "<<<none:none>>>-<<<none:none>>>-<<<none:none>>>-<<<none:none>>>-<<<none:none>>>-<<<none:none>>>-<<<none:none>>>-<<<none:none>>>-<<<none:none>>>-<<<none:none>>>-<<<none:none>>>-<<<none:none>>>-<<<none:none>>>-<<<none:none>>>-<<<40:red>>>-<<<60:red>>>-\n",
      "\n"
     ]
    }
   ],
   "source": [
    "t.insert(60)\n",
    "print_tree(t.root)"
   ]
  },
  {
   "cell_type": "code",
   "execution_count": null,
   "metadata": {},
   "outputs": [],
   "source": []
  }
 ],
 "metadata": {
  "kernelspec": {
   "display_name": "Python 3",
   "language": "python",
   "name": "python3"
  },
  "language_info": {
   "codemirror_mode": {
    "name": "ipython",
    "version": 3
   },
   "file_extension": ".py",
   "mimetype": "text/x-python",
   "name": "python",
   "nbconvert_exporter": "python",
   "pygments_lexer": "ipython3",
   "version": "3.7.3"
  }
 },
 "nbformat": 4,
 "nbformat_minor": 2
}
