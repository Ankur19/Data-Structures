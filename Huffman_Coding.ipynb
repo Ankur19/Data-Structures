{
 "cells": [
  {
   "cell_type": "markdown",
   "metadata": {},
   "source": [
    "# Huffman Coding and Decoding"
   ]
  },
  {
   "cell_type": "code",
   "execution_count": 184,
   "metadata": {},
   "outputs": [],
   "source": [
    "class Node():\n",
    "    def __init__(self, value):\n",
    "        self.key = None\n",
    "        self.value = value\n",
    "        self.left = None\n",
    "        self.right = None\n",
    "class Huffman(object):\n",
    "    \n",
    "    def __init__(self, sentence):\n",
    "        import sys\n",
    "        import copy\n",
    "        self.sys = sys\n",
    "        self.copy = copy\n",
    "        self.sentence = sentence\n",
    "        self.characters = {}\n",
    "        self.char_list = []\n",
    "        self.tree = None\n",
    "        self.converted_chars = {}\n",
    "        self.encoded_data = {}\n",
    "    def get_size(self, sentence):\n",
    "        return self.sys.getsizeof(sentence)\n",
    "    def get_codes(self, node, converted_chars):\n",
    "        if node.left is None and node.right is None:\n",
    "            print(\"key: \" + node.key + ' value: ' + converted_chars[node.key])\n",
    "            return\n",
    "        if node.left is not None:\n",
    "            new_code = converted_chars[node.key]\n",
    "            converted_chars[node.left.key] = new_code+'0'\n",
    "            self.get_codes(node.left, converted_chars)\n",
    "        if node.right is not None:\n",
    "            new_code = converted_chars[node.key]\n",
    "            converted_chars[node.right.key] = new_code+'1'\n",
    "            self.get_codes(node.right, converted_chars)\n",
    "        new_codes = {}\n",
    "        for i in converted_chars:\n",
    "            if len(i)==1:\n",
    "                new_codes[i] = converted_chars[i]\n",
    "        return new_codes\n",
    "    def encode(self):\n",
    "        for i in list(self.sentence):\n",
    "            if i in self.characters:\n",
    "                node = self.characters[i]\n",
    "                node.value+=1\n",
    "                self.characters[i] = node\n",
    "            else:\n",
    "                node = Node(1)\n",
    "                node.key = i\n",
    "                self.characters[i] = node\n",
    "        self.char_list = [i[0] for i in sorted(self.characters.items(), key=lambda x: x[1].value)]\n",
    "        while len(self.char_list) > 1:\n",
    "            node1 = self.characters.pop(self.char_list[0])\n",
    "            node2 = self.characters.pop(self.char_list[1])\n",
    "            node = Node(node1.value + node2.value)\n",
    "            node.left = node1\n",
    "            node.right = node2\n",
    "            node.key = node1.key+node2.key\n",
    "            self.characters[node.key] = node\n",
    "            if(len(self.char_list)==2):\n",
    "                self.char_list = [node]\n",
    "            else:\n",
    "                self.char_list = self.char_list[2:]\n",
    "                for i in range(len(self.char_list)):\n",
    "                    if self.characters[node.key].value <= self.characters[self.char_list[i]].value:\n",
    "                        self.char_list.insert(i, node.key)\n",
    "                        break\n",
    "                    elif i+1 == len(self.char_list):\n",
    "                        self.char_list.append(node.key)\n",
    "        self.tree = self.char_list[0]\n",
    "        self.converted_chars = self.get_codes(self.char_list[0], {self.char_list[0].key: ''})\n",
    "        code = \"\"\n",
    "        for i in list(self.sentence):\n",
    "            code = code+self.converted_chars[i]\n",
    "        self.encoded_data[self.sentence] = code\n",
    "        return self.encoded_data[self.sentence]\n",
    "    def decode(self, encode, tree):\n",
    "        root = self.copy.deepcopy(tree)\n",
    "        encode = str(encode)\n",
    "        decoded_str = ''\n",
    "        for i in list(encode):\n",
    "            if i=='0':\n",
    "                if len(root.left.key)==1:\n",
    "                    decoded_str = decoded_str+root.left.key\n",
    "                    print(\"Current String: \" + decoded_str)\n",
    "                    root = self.copy.deepcopy(tree)\n",
    "                else:\n",
    "                    root=root.left\n",
    "            elif i=='1':\n",
    "                if len(root.right.key)==1:\n",
    "                    decoded_str = decoded_str+root.right.key\n",
    "                    print(\"Current String: \" + decoded_str)\n",
    "                    root = self.copy.deepcopy(tree)\n",
    "                else:\n",
    "                    root=root.right\n",
    "        return decoded_str"
   ]
  },
  {
   "cell_type": "code",
   "execution_count": 185,
   "metadata": {
    "collapsed": true
   },
   "outputs": [],
   "source": [
    "# Let us take an example sentence\n",
    "\n",
    "huff = Huffman('This is an example')"
   ]
  },
  {
   "cell_type": "markdown",
   "metadata": {},
   "source": [
    "###### Encoding the data returns the binary code"
   ]
  },
  {
   "cell_type": "code",
   "execution_count": 186,
   "metadata": {},
   "outputs": [
    {
     "name": "stdout",
     "output_type": "stream",
     "text": [
      "key: i value: 000\n",
      "key: s value: 001\n",
      "key: a value: 010\n",
      "key: e value: 011\n",
      "key: l value: 1000\n",
      "key: n value: 1001\n",
      "key: h value: 1010\n",
      "key: m value: 1011\n",
      "key: x value: 1100\n",
      "key: p value: 11010\n",
      "key: T value: 11011\n",
      "key:   value: 111\n"
     ]
    },
    {
     "data": {
      "text/plain": [
       "'110111010000001111000001111010100111101111000101011110101000011'"
      ]
     },
     "execution_count": 186,
     "metadata": {},
     "output_type": "execute_result"
    }
   ],
   "source": [
    "huff.encode()"
   ]
  },
  {
   "cell_type": "markdown",
   "metadata": {},
   "source": [
    "###### Decoding the data again gives us the original string. we need to provide the encoded data and the tree as input"
   ]
  },
  {
   "cell_type": "code",
   "execution_count": 193,
   "metadata": {},
   "outputs": [
    {
     "name": "stdout",
     "output_type": "stream",
     "text": [
      "Current String: T\n",
      "Current String: Th\n",
      "Current String: Thi\n",
      "Current String: This\n",
      "Current String: This \n",
      "Current String: This i\n",
      "Current String: This is\n",
      "Current String: This is \n",
      "Current String: This is a\n",
      "Current String: This is an\n",
      "Current String: This is an \n",
      "Current String: This is an e\n",
      "Current String: This is an ex\n",
      "Current String: This is an exa\n",
      "Current String: This is an exam\n",
      "Current String: This is an examp\n",
      "Current String: This is an exampl\n",
      "Current String: This is an example\n"
     ]
    },
    {
     "data": {
      "text/plain": [
       "'This is an example'"
      ]
     },
     "execution_count": 193,
     "metadata": {},
     "output_type": "execute_result"
    }
   ],
   "source": [
    "huff.decode('110111010000001111000001111010100111101111000101011110101000011', huff.tree)"
   ]
  },
  {
   "cell_type": "markdown",
   "metadata": {},
   "source": [
    "##### Let us now compare the sizes of the original and the binary string"
   ]
  },
  {
   "cell_type": "markdown",
   "metadata": {},
   "source": [
    "##### In the below example we can see that the size of sentence changed from 51 to 36, which is quiet a lot considering the length of the sentence"
   ]
  },
  {
   "cell_type": "code",
   "execution_count": 188,
   "metadata": {},
   "outputs": [
    {
     "data": {
      "text/plain": [
       "'This is an example'"
      ]
     },
     "execution_count": 188,
     "metadata": {},
     "output_type": "execute_result"
    }
   ],
   "source": [
    "#The original sentence\n",
    "\n",
    "huff.sentence"
   ]
  },
  {
   "cell_type": "code",
   "execution_count": 189,
   "metadata": {},
   "outputs": [
    {
     "data": {
      "text/plain": [
       "51"
      ]
     },
     "execution_count": 189,
     "metadata": {},
     "output_type": "execute_result"
    }
   ],
   "source": [
    "#Original sentence size\n",
    "\n",
    "huff.get_size(huff.sentence)"
   ]
  },
  {
   "cell_type": "code",
   "execution_count": 190,
   "metadata": {},
   "outputs": [
    {
     "data": {
      "text/plain": [
       "'110111010000001111000001111010100111101111000101011110101000011'"
      ]
     },
     "execution_count": 190,
     "metadata": {},
     "output_type": "execute_result"
    }
   ],
   "source": [
    "#The encoded code\n",
    "\n",
    "huff.encoded_data[huff.sentence]"
   ]
  },
  {
   "cell_type": "code",
   "execution_count": 191,
   "metadata": {},
   "outputs": [
    {
     "data": {
      "text/plain": [
       "36"
      ]
     },
     "execution_count": 191,
     "metadata": {},
     "output_type": "execute_result"
    }
   ],
   "source": [
    "#The encoded code size\n",
    "\n",
    "huff.get_size(int(huff.encoded_data[huff.sentence], base=2))"
   ]
  }
 ],
 "metadata": {
  "kernelspec": {
   "display_name": "Python 2",
   "language": "python",
   "name": "python2"
  },
  "language_info": {
   "codemirror_mode": {
    "name": "ipython",
    "version": 2
   },
   "file_extension": ".py",
   "mimetype": "text/x-python",
   "name": "python",
   "nbconvert_exporter": "python",
   "pygments_lexer": "ipython2",
   "version": "2.7.13"
  }
 },
 "nbformat": 4,
 "nbformat_minor": 2
}
