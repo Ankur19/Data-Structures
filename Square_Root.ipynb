{
 "cells": [
  {
   "cell_type": "code",
   "execution_count": 39,
   "metadata": {},
   "outputs": [],
   "source": [
    "def sqrt(x):\n",
    "    low = x//4\n",
    "    up = x//2\n",
    "    def sqrt_code(lower_limit, upper_limit, x):\n",
    "        low = lower_limit*lower_limit\n",
    "        up = upper_limit*upper_limit\n",
    "        if low==x:\n",
    "            return low\n",
    "        elif up==x:\n",
    "            return up\n",
    "        elif low<x and up>x:\n",
    "            if(upper_limit-lower_limit==1):\n",
    "                return lower_limit\n",
    "            avg = (upper_limit+lower_limit)//2\n",
    "            l = sqrt_code(lower_limit, avg, x)\n",
    "            if l !=0:\n",
    "                return l\n",
    "            else:\n",
    "                return sqrt_code(avg, upper_limit, x)\n",
    "        elif (low<x and up<x):\n",
    "            return 0\n",
    "        elif (low>x and up>x):\n",
    "            return sqrt_code(lower_limit//2, upper_limit, x)\n",
    "    return sqrt_code(low, up, x)"
   ]
  },
  {
   "cell_type": "code",
   "execution_count": 43,
   "metadata": {},
   "outputs": [
    {
     "data": {
      "text/plain": [
       "163044951"
      ]
     },
     "execution_count": 43,
     "metadata": {},
     "output_type": "execute_result"
    }
   ],
   "source": [
    "sqrt(26583656358638476)"
   ]
  },
  {
   "cell_type": "code",
   "execution_count": null,
   "metadata": {},
   "outputs": [],
   "source": []
  },
  {
   "cell_type": "code",
   "execution_count": null,
   "metadata": {},
   "outputs": [],
   "source": []
  }
 ],
 "metadata": {
  "kernelspec": {
   "display_name": "Python 3",
   "language": "python",
   "name": "python3"
  },
  "language_info": {
   "codemirror_mode": {
    "name": "ipython",
    "version": 3
   },
   "file_extension": ".py",
   "mimetype": "text/x-python",
   "name": "python",
   "nbconvert_exporter": "python",
   "pygments_lexer": "ipython3",
   "version": "3.7.3"
  }
 },
 "nbformat": 4,
 "nbformat_minor": 2
}
