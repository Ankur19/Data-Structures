{
 "cells": [
  {
   "cell_type": "markdown",
   "metadata": {},
   "source": [
    "##### Rearrange Array Elements so as to form two number such that their sum is maximum. Return these two numbers. You can assume that all array elements are in the range [0, 9]. The number of digits in both the numbers cannot differ by more than 1. You're not allowed to use any sorting function that Python provides and the expected time complexity is O(nlog(n)).\n",
    "\n",
    "##### for e.g. [1, 2, 3, 4, 5]\n",
    "\n",
    "##### The expected answer would be [531, 42]. Another expected answer can be [542, 31]. In scenarios such as these when there are more than one possible answers, return any one."
   ]
  },
  {
   "cell_type": "code",
   "execution_count": 47,
   "metadata": {},
   "outputs": [],
   "source": [
    "def rearrange_digits(input_list):\n",
    "    \"\"\"\n",
    "    Rearrange Array Elements so as to form two number such that their sum is maximum.\n",
    "\n",
    "    Args:\n",
    "       input_list(list): Input List\n",
    "    Returns:\n",
    "       (int),(int): Two maximum sums\n",
    "    \"\"\"\n",
    "    def create_numbers(num_high, num_low, current, multiplier, pending_list):\n",
    "        if pending_list is None or pending_list==[]:\n",
    "            return num_high, num_low\n",
    "        else:\n",
    "            counter = 0\n",
    "            for i in pending_list:\n",
    "                if counter+1==len(pending_list) and current==\"low\":\n",
    "                    num_high+=i*multiplier\n",
    "                    continue\n",
    "                    \n",
    "                counter+=1\n",
    "                \n",
    "                if current==\"low\":\n",
    "                    num_low+=i*multiplier\n",
    "                    current=\"high\"\n",
    "                    continue\n",
    "                elif current==\"high\":\n",
    "                    num_high+=i*multiplier\n",
    "                    current=\"low\"\n",
    "                    multiplier*=10\n",
    "                    continue\n",
    "            return num_high, num_low\n",
    "    def merge (input_list, l1,l2):\n",
    "        l1_idx = 0\n",
    "        l2_idx = 0\n",
    "        new_list = []\n",
    "        if len(l1)+len(l2)==len(input_list):\n",
    "            num_low = 0\n",
    "            num_high = 0\n",
    "            current = \"low\"\n",
    "            multiplier = 1\n",
    "            while l1_idx<len(l1) and l2_idx<len(l2):\n",
    "                if l1[l1_idx]>l2[l2_idx]:\n",
    "                    if current==\"low\":\n",
    "                        num_low+=l2[l2_idx]*multiplier\n",
    "                        l2_idx+=1\n",
    "                        current = \"high\"\n",
    "                    else:\n",
    "                        num_high+=l2[l2_idx]*multiplier\n",
    "                        l2_idx+=1\n",
    "                        current = \"low\"\n",
    "                        multiplier*=10\n",
    "                elif l1[l1_idx]<l2[l2_idx]:\n",
    "                    if current==\"low\":\n",
    "                        num_low+=l1[l1_idx]*multiplier\n",
    "                        l1_idx+=1\n",
    "                        current = \"high\"\n",
    "                    else:\n",
    "                        num_high+=l1[l1_idx]*multiplier\n",
    "                        l1_idx+=1\n",
    "                        current = \"low\"\n",
    "                        multiplier*=10\n",
    "                else:\n",
    "                    num_low+=l1[l1_idx]*multiplier\n",
    "                    num_high+=l2[l2_idx]*multiplier\n",
    "                    multiplier*=10\n",
    "            num_high, num_low = create_numbers(num_high, num_low, current, multiplier, l1[l1_idx:])\n",
    "            num_high, num_low = create_numbers(num_high, num_low, current, multiplier, l2[l2_idx:])\n",
    "            new_list.append(num_high)\n",
    "            new_list.append(num_low)\n",
    "        else:\n",
    "            while l1_idx<len(l1) and l2_idx<len(l2):\n",
    "                if l1[l1_idx]>l2[l2_idx]:\n",
    "                    new_list.append(l2[l2_idx])\n",
    "                    l2_idx+=1\n",
    "                elif l1[l1_idx]<l2[l2_idx]:\n",
    "                    new_list.append(l1[l1_idx])\n",
    "                    l1_idx+=1\n",
    "                elif l1[l1_idx]==l2[l2_idx]:\n",
    "                    l1_idx+=1\n",
    "                    l2_idx+=1\n",
    "            new_list.extend(l1[l1_idx:])\n",
    "            new_list.extend(l2[l2_idx:])\n",
    "        return new_list\n",
    "    def rearrange_digits_code(input_list, main_list):\n",
    "        \n",
    "        if len(input_list)==1:\n",
    "            return input_list\n",
    "        l1 = []\n",
    "        l2 = []\n",
    "        mid = len(input_list)//2\n",
    "        if (input_list[:mid] != []):\n",
    "            l1 = rearrange_digits_code(input_list[:mid], main_list)\n",
    "        if ((input_list[mid:]) != []):\n",
    "            l2 = rearrange_digits_code(input_list[mid:], main_list)\n",
    "        return merge(main_list, l1,l2)\n",
    "    return rearrange_digits_code(input_list, input_list)"
   ]
  },
  {
   "cell_type": "code",
   "execution_count": 48,
   "metadata": {},
   "outputs": [
    {
     "name": "stdout",
     "output_type": "stream",
     "text": [
      "Pass\n"
     ]
    }
   ],
   "source": [
    "def test_function(test_case):\n",
    "    output = rearrange_digits(test_case[0])\n",
    "    solution = test_case[1]\n",
    "    if sum(output) == sum(solution):\n",
    "        print(\"Pass\")\n",
    "    else:\n",
    "        print(\"Fail\")\n",
    "\n",
    "test_function([[1, 2, 3, 4, 5], [542, 31]])\n",
    "test_case = [[4, 6, 2, 5, 9, 8], [964, 852]]"
   ]
  },
  {
   "cell_type": "code",
   "execution_count": 49,
   "metadata": {},
   "outputs": [
    {
     "data": {
      "text/plain": [
       "[542, 31]"
      ]
     },
     "execution_count": 49,
     "metadata": {},
     "output_type": "execute_result"
    }
   ],
   "source": [
    "rearrange_digits([1, 2, 3, 4, 5])"
   ]
  },
  {
   "cell_type": "code",
   "execution_count": 52,
   "metadata": {},
   "outputs": [
    {
     "data": {
      "text/plain": [
       "[964, 852]"
      ]
     },
     "execution_count": 52,
     "metadata": {},
     "output_type": "execute_result"
    }
   ],
   "source": [
    "rearrange_digits([4, 6, 2, 5, 9, 8])"
   ]
  },
  {
   "cell_type": "code",
   "execution_count": null,
   "metadata": {},
   "outputs": [],
   "source": []
  }
 ],
 "metadata": {
  "kernelspec": {
   "display_name": "Python 3",
   "language": "python",
   "name": "python3"
  },
  "language_info": {
   "codemirror_mode": {
    "name": "ipython",
    "version": 3
   },
   "file_extension": ".py",
   "mimetype": "text/x-python",
   "name": "python",
   "nbconvert_exporter": "python",
   "pygments_lexer": "ipython3",
   "version": "3.7.3"
  }
 },
 "nbformat": 4,
 "nbformat_minor": 2
}
