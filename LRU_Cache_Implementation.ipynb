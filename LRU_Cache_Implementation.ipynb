{
 "cells": [
  {
   "cell_type": "markdown",
   "metadata": {},
   "source": [
    "# LRU Cache Implementation"
   ]
  },
  {
   "cell_type": "markdown",
   "metadata": {},
   "source": [
    "### Slow Implementation"
   ]
  },
  {
   "cell_type": "code",
   "execution_count": 62,
   "metadata": {},
   "outputs": [
    {
     "name": "stdout",
     "output_type": "stream",
     "text": [
      "1\n",
      "2\n",
      "-1\n",
      "-1\n"
     ]
    }
   ],
   "source": [
    "class LRU_Cache(object):\n",
    "\n",
    "    def __init__(self, capacity):\n",
    "        # Initialize class variables\n",
    "        self.capacity = capacity\n",
    "        self.arr = []\n",
    "        self.used_once = []\n",
    "        self.cache ={}\n",
    "        for i in range(self.capacity):\n",
    "            self.arr.append(None)\n",
    "            self.used_once.append(None)\n",
    "            self.cache[i] = None\n",
    "        \n",
    "\n",
    "    def get(self, key):\n",
    "        # Retrieve item from provided key. Return -1 if nonexistent. \n",
    "        old_key_idx = None\n",
    "        none_idx = None\n",
    "        count = 0\n",
    "        val = None\n",
    "        for i in range(self.capacity):\n",
    "            if self.used_once[i]==key:\n",
    "                old_key_idx = i\n",
    "            elif self.used_once[i] is None and count==0:\n",
    "                none_idx = i\n",
    "                count+=1\n",
    "            if self.cache[i]==key:\n",
    "                val=self.arr[i]\n",
    "        if old_key_idx is not None:\n",
    "            if none_idx is not None:\n",
    "                slice1 = self.used_once[:old_key_idx]\n",
    "                slice1.extend(self.used_once[old_key_idx+1:])\n",
    "                self.used_once = slice1\n",
    "                self.used_once[none_idx-1] = key\n",
    "                self.used_once.append(None)\n",
    "            else:\n",
    "                self.used_once.append(key)\n",
    "                slice1 = self.used_once[:old_key_idx]\n",
    "                slice1.extend(self.used_once[old_key_idx+1:])\n",
    "                self.used_once = slice1\n",
    "        if val is None:\n",
    "            return -1\n",
    "        else:\n",
    "            return val\n",
    "\n",
    "    def set(self, key, value):\n",
    "        # Set the value if the key is not present in the cache. If the cache is at capacity remove the oldest item.\n",
    "        isFull = True\n",
    "        for i in range(self.capacity):\n",
    "            if self.arr[i] is None:\n",
    "                self.arr[i] = value\n",
    "                self.cache[i] = key\n",
    "                self.used_once[i] = key\n",
    "                isFull = False\n",
    "                break\n",
    "        if isFull:\n",
    "            old_key = self.used_once[0]\n",
    "            old_key_idx = None\n",
    "            for i in range(self.capacity):\n",
    "                if self.cache[i]==old_key:\n",
    "                    self.cache[i]=key\n",
    "                    self.arr[i] = value\n",
    "                    self.used_once.append(key)\n",
    "                if self.used_once[i]==old_key:\n",
    "                    old_key_idx = i\n",
    "            if old_key_idx is not None:\n",
    "                slice1 = self.used_once[:old_key_idx]\n",
    "                slice1.extend(self.used_once[old_key_idx+1:])\n",
    "                self.used_once = slice1\n",
    "            \n",
    "\n",
    "                \n",
    "        \n",
    "            \n",
    "\n",
    "our_cache = LRU_Cache(5)\n",
    "\n",
    "our_cache.set(1, 1);\n",
    "our_cache.set(2, 2);\n",
    "our_cache.set(3, 3);\n",
    "our_cache.set(4, 4);\n",
    "\n",
    "\n",
    "print(our_cache.get(1))       # returns 1\n",
    "print(our_cache.get(2))       # returns 2\n",
    "print(our_cache.get(9))      # returns -1 because 9 is not present in the cache\n",
    "\n",
    "our_cache.set(5, 5)\n",
    "our_cache.set(6, 6)\n",
    "\n",
    "print(our_cache.get(3))      # returns -1 because the cache reached it's capacity and 3 was the least recently used entry\n"
   ]
  },
  {
   "cell_type": "markdown",
   "metadata": {},
   "source": [
    "#### The above code has O(n) time complexity for both get and set since we are slicing an array whenever we want to dispace a cache object from the head or middle of array to the end. "
   ]
  },
  {
   "cell_type": "markdown",
   "metadata": {},
   "source": [
    "### Fast Implementation"
   ]
  },
  {
   "cell_type": "code",
   "execution_count": 8,
   "metadata": {
    "collapsed": true
   },
   "outputs": [],
   "source": [
    "class Node():\n",
    "    def __init__(self, value):\n",
    "        self.value=value\n",
    "        self.key = None\n",
    "        self.previous = None\n",
    "        self.next = None\n",
    "class LRU_Cache(object):\n",
    "    \n",
    "    def __init__(self, value):\n",
    "        self.capacity = value\n",
    "        self.size = 0\n",
    "        self.cache = {}\n",
    "        self.head = None\n",
    "        self.end = None\n",
    "    def set(self, key, value):\n",
    "        if self.size < self.capacity:\n",
    "            if self.head is None:\n",
    "                self.head = Node(value)\n",
    "                self.head.key = key\n",
    "                self.cache[key] = self.head\n",
    "                self.size+=1\n",
    "                self.end = self.head\n",
    "            else:\n",
    "                self.end.next = Node(value)\n",
    "                self.end.next.key=key\n",
    "                self.end.next.previous = self.end\n",
    "                self.cache[key] = self.end.next\n",
    "                self.end = self.end.next\n",
    "                self.size+=1\n",
    "        elif self.size ==self.capacity:\n",
    "            self.cache.pop(self.head.key)\n",
    "            self.head = self.head.next\n",
    "            self.head.previous = None\n",
    "            self.size+=1\n",
    "            self.end.next = Node(value)\n",
    "            self.end.next.previous = self.end\n",
    "            self.end = self.end.next\n",
    "            self.cache[key] = self.end\n",
    "    def get(self, key):\n",
    "        if key in self.cache:\n",
    "            if self.head.key==key:\n",
    "                self.head = self.head.next\n",
    "            node = self.cache[key]\n",
    "            node.next.previous = node.previous\n",
    "            self.end.next = node\n",
    "            self.end.next.previous = self.end\n",
    "            self.end = self.end.next\n",
    "            return node.value\n",
    "        else:\n",
    "            return -1"
   ]
  },
  {
   "cell_type": "code",
   "execution_count": 9,
   "metadata": {
    "collapsed": true
   },
   "outputs": [],
   "source": [
    "our_cache = LRU_Cache(5)\n",
    "\n",
    "our_cache.set(1, 1);\n",
    "our_cache.set(2, 2);\n",
    "our_cache.set(3, 3);\n",
    "our_cache.set(4, 4);"
   ]
  },
  {
   "cell_type": "code",
   "execution_count": 10,
   "metadata": {},
   "outputs": [
    {
     "name": "stdout",
     "output_type": "stream",
     "text": [
      "1\n",
      "2\n",
      "-1\n",
      "-1\n"
     ]
    }
   ],
   "source": [
    "print(our_cache.get(1))       # returns 1\n",
    "print(our_cache.get(2))       # returns 2\n",
    "print(our_cache.get(9))      # returns -1 because 9 is not present in the cache\n",
    "\n",
    "our_cache.set(5, 5)\n",
    "our_cache.set(6, 6)\n",
    "\n",
    "print(our_cache.get(3))      # returns -1 because the cache reached it's capacity and 3 was the least recently used entry\n"
   ]
  },
  {
   "cell_type": "markdown",
   "metadata": {},
   "source": [
    "#### This implementation has O(1) time complexity for both the get and set methods since we are using a Dictionary(hashMap) to find the key and a doublyLinkedList to displace the cache object from head or middle to the end(whenever we use get on an existing cache)"
   ]
  },
  {
   "cell_type": "code",
   "execution_count": null,
   "metadata": {
    "collapsed": true
   },
   "outputs": [],
   "source": []
  }
 ],
 "metadata": {
  "kernelspec": {
   "display_name": "Python 2",
   "language": "python",
   "name": "python2"
  },
  "language_info": {
   "codemirror_mode": {
    "name": "ipython",
    "version": 2
   },
   "file_extension": ".py",
   "mimetype": "text/x-python",
   "name": "python",
   "nbconvert_exporter": "python",
   "pygments_lexer": "ipython2",
   "version": "2.7.13"
  }
 },
 "nbformat": 4,
 "nbformat_minor": 2
}
